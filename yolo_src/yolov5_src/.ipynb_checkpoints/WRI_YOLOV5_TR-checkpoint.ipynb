{
 "cells": [
  {
   "cell_type": "code",
   "execution_count": 1,
   "metadata": {
    "colab": {
     "base_uri": "https://localhost:8080/"
    },
    "id": "VJxydUaSLC_x",
    "outputId": "630b3d0f-0aa8-4e3e-9d0b-a26530f580ea"
   },
   "outputs": [
    {
     "name": "stdout",
     "output_type": "stream",
     "text": [
      "Setup complete. Using torch 1.13.0 _CudaDeviceProperties(name='NVIDIA GeForce RTX 2080 SUPER', major=7, minor=5, total_memory=8191MB, multi_processor_count=48)\n"
     ]
    }
   ],
   "source": [
    "# !pip install -qr requirements.txt  # install dependencies (ignore errors)\n",
    "import torch\n",
    "\n",
    "from IPython.display import Image, clear_output  # to display images\n",
    "# from utils.downloads import attempt_download  # to download models/datasets\n",
    "\n",
    "# clear_output()\n",
    "print('Setup complete. Using torch %s %s' % (torch.__version__, torch.cuda.get_device_properties(0) if torch.cuda.is_available() else 'CPU'))"
   ]
  },
  {
   "cell_type": "code",
   "execution_count": 8,
   "metadata": {
    "colab": {
     "base_uri": "https://localhost:8080/"
    },
    "id": "-oEXEQvHLMRg",
    "outputId": "f21f8042-05cf-4755-a355-8c691f1fc109"
   },
   "outputs": [
    {
     "name": "stdout",
     "output_type": "stream",
     "text": [
      "/content/yolov5\n"
     ]
    }
   ],
   "source": [
    "%cd /content/yolov5"
   ]
  },
  {
   "cell_type": "code",
   "execution_count": 3,
   "metadata": {
    "colab": {
     "base_uri": "https://localhost:8080/"
    },
    "id": "LjAQVtpPM2rx",
    "outputId": "9fcf16d5-6601-4f5c-8482-ad2e1eebd9b3"
   },
   "outputs": [
    {
     "name": "stderr",
     "output_type": "stream",
     "text": [
      "UsageError: Line magic function `%cat` not found.\n"
     ]
    }
   ],
   "source": [
    "%cat meta.yaml"
   ]
  },
  {
   "cell_type": "code",
   "execution_count": 10,
   "metadata": {
    "colab": {
     "base_uri": "https://localhost:8080/",
     "height": 35
    },
    "id": "igTW5IC6NCMe",
    "outputId": "a8d45db4-3c61-4698-cdee-b7a7df2b8156"
   },
   "outputs": [
    {
     "data": {
      "application/vnd.google.colaboratory.intrinsic+json": {
       "type": "string"
      },
      "text/plain": [
       "'9'"
      ]
     },
     "execution_count": 10,
     "metadata": {},
     "output_type": "execute_result"
    }
   ],
   "source": [
    "# define number of classes based on YAML\n",
    "import yaml\n",
    "with open(\"meta.yaml\", 'r') as stream:\n",
    "    num_classes = str(yaml.safe_load(stream)['nc'])\n",
    "num_classes"
   ]
  },
  {
   "cell_type": "code",
   "execution_count": 11,
   "metadata": {
    "colab": {
     "base_uri": "https://localhost:8080/"
    },
    "id": "4iu92b46OBla",
    "outputId": "689d8694-4786-4e82-8177-b4d0436db70e"
   },
   "outputs": [
    {
     "name": "stdout",
     "output_type": "stream",
     "text": [
      "# YOLOv5 🚀 by Ultralytics, GPL-3.0 license\n",
      "\n",
      "# Parameters\n",
      "nc: 80  # number of classes\n",
      "depth_multiple: 0.33  # model depth multiple\n",
      "width_multiple: 0.50  # layer channel multiple\n",
      "anchors:\n",
      "  - [10,13, 16,30, 33,23]  # P3/8\n",
      "  - [30,61, 62,45, 59,119]  # P4/16\n",
      "  - [116,90, 156,198, 373,326]  # P5/32\n",
      "\n",
      "# YOLOv5 v6.0 backbone\n",
      "backbone:\n",
      "  # [from, number, module, args]\n",
      "  [[-1, 1, Conv, [64, 6, 2, 2]],  # 0-P1/2\n",
      "   [-1, 1, Conv, [128, 3, 2]],  # 1-P2/4\n",
      "   [-1, 3, C3, [128]],\n",
      "   [-1, 1, Conv, [256, 3, 2]],  # 3-P3/8\n",
      "   [-1, 6, C3, [256]],\n",
      "   [-1, 1, Conv, [512, 3, 2]],  # 5-P4/16\n",
      "   [-1, 9, C3, [512]],\n",
      "   [-1, 1, Conv, [1024, 3, 2]],  # 7-P5/32\n",
      "   [-1, 3, C3, [1024]],\n",
      "   [-1, 1, SPPF, [1024, 5]],  # 9\n",
      "  ]\n",
      "\n",
      "# YOLOv5 v6.0 head\n",
      "head:\n",
      "  [[-1, 1, Conv, [512, 1, 1]],\n",
      "   [-1, 1, nn.Upsample, [None, 2, 'nearest']],\n",
      "   [[-1, 6], 1, Concat, [1]],  # cat backbone P4\n",
      "   [-1, 3, C3, [512, False]],  # 13\n",
      "\n",
      "   [-1, 1, Conv, [256, 1, 1]],\n",
      "   [-1, 1, nn.Upsample, [None, 2, 'nearest']],\n",
      "   [[-1, 4], 1, Concat, [1]],  # cat backbone P3\n",
      "   [-1, 3, C3, [256, False]],  # 17 (P3/8-small)\n",
      "\n",
      "   [-1, 1, Conv, [256, 3, 2]],\n",
      "   [[-1, 14], 1, Concat, [1]],  # cat head P4\n",
      "   [-1, 3, C3, [512, False]],  # 20 (P4/16-medium)\n",
      "\n",
      "   [-1, 1, Conv, [512, 3, 2]],\n",
      "   [[-1, 10], 1, Concat, [1]],  # cat head P5\n",
      "   [-1, 3, C3, [1024, False]],  # 23 (P5/32-large)\n",
      "\n",
      "   [[17, 20, 23], 1, Detect, [nc, anchors]],  # Detect(P3, P4, P5)\n",
      "  ]\n"
     ]
    }
   ],
   "source": [
    "%cat /content/yolov5/models/yolov5s.yaml"
   ]
  },
  {
   "cell_type": "code",
   "execution_count": 12,
   "metadata": {
    "id": "T2mSLFX6OFyq"
   },
   "outputs": [],
   "source": [
    "#customize iPython writefile so we can write variables\n",
    "from IPython.core.magic import register_line_cell_magic\n",
    "\n",
    "@register_line_cell_magic\n",
    "def writetemplate(line, cell):\n",
    "    with open(line, 'w') as f:\n",
    "        f.write(cell.format(**globals()))"
   ]
  },
  {
   "cell_type": "code",
   "execution_count": 13,
   "metadata": {
    "id": "MZTA81OiOMch"
   },
   "outputs": [],
   "source": [
    "%%writetemplate /content/yolov5/models/custom_yolov5s.yaml\n",
    "\n",
    "# parameters\n",
    "nc: {num_classes}  # number of classes\n",
    "depth_multiple: 0.33  # model depth multiple\n",
    "width_multiple: 0.50  # layer channel multiple\n",
    "\n",
    "# anchors\n",
    "anchors:\n",
    "  - [10,13, 16,30, 33,23]  # P3/8\n",
    "  - [30,61, 62,45, 59,119]  # P4/16\n",
    "  - [116,90, 156,198, 373,326]  # P5/32\n",
    "\n",
    "# YOLOv5 backbone\n",
    "backbone:\n",
    "  # [from, number, module, args]\n",
    "  [[-1, 1, Focus, [64, 3]],  # 0-P1/2\n",
    "   [-1, 1, Conv, [128, 3, 2]],  # 1-P2/4\n",
    "   [-1, 3, BottleneckCSP, [128]],\n",
    "   [-1, 1, Conv, [256, 3, 2]],  # 3-P3/8\n",
    "   [-1, 9, BottleneckCSP, [256]],\n",
    "   [-1, 1, Conv, [512, 3, 2]],  # 5-P4/16\n",
    "   [-1, 9, BottleneckCSP, [512]],\n",
    "   [-1, 1, Conv, [1024, 3, 2]],  # 7-P5/32\n",
    "   [-1, 1, SPP, [1024, [5, 9, 13]]],\n",
    "   [-1, 3, BottleneckCSP, [1024, False]],  # 9\n",
    "  ]\n",
    "\n",
    "# YOLOv5 head\n",
    "head:\n",
    "  [[-1, 1, Conv, [512, 1, 1]],\n",
    "   [-1, 1, nn.Upsample, [None, 2, 'nearest']],\n",
    "   [[-1, 6], 1, Concat, [1]],  # cat backbone P4\n",
    "   [-1, 3, BottleneckCSP, [512, False]],  # 13\n",
    "\n",
    "   [-1, 1, Conv, [256, 1, 1]],\n",
    "   [-1, 1, nn.Upsample, [None, 2, 'nearest']],\n",
    "   [[-1, 4], 1, Concat, [1]],  # cat backbone P3\n",
    "   [-1, 3, BottleneckCSP, [256, False]],  # 17 (P3/8-small)\n",
    "\n",
    "   [-1, 1, Conv, [256, 3, 2]],\n",
    "   [[-1, 14], 1, Concat, [1]],  # cat head P4\n",
    "   [-1, 3, BottleneckCSP, [512, False]],  # 20 (P4/16-medium)\n",
    "\n",
    "   [-1, 1, Conv, [512, 3, 2]],\n",
    "   [[-1, 10], 1, Concat, [1]],  # cat head P5\n",
    "   [-1, 3, BottleneckCSP, [1024, False]],  # 23 (P5/32-large)\n",
    "\n",
    "   [[17, 20, 23], 1, Detect, [nc, anchors]],  # Detect(P3, P4, P5)\n",
    "  ]"
   ]
  },
  {
   "cell_type": "markdown",
   "metadata": {},
   "source": [
    "YOLOV5S"
   ]
  },
  {
   "cell_type": "code",
   "execution_count": null,
   "metadata": {
    "colab": {
     "base_uri": "https://localhost:8080/"
    },
    "id": "8s2bD7pjOSvQ",
    "outputId": "b35b3aac-1d71-48e3-e5f1-17b3873769a1"
   },
   "outputs": [],
   "source": [
    "!python train.py --img 640 --batch 16 --epochs 100 --data meta.yaml --cfg ./models/yolov5s.yaml --weights '' --name yolov5s_results_with_test  --cache"
   ]
  },
  {
   "cell_type": "code",
   "execution_count": 6,
   "metadata": {},
   "outputs": [
    {
     "name": "stderr",
     "output_type": "stream",
     "text": [
      "\u001b[34m\u001b[1mval: \u001b[0mdata=../test_path/meta.yaml, weights=['./runs/train/yolov5s_results_with_test/weights/best.pt'], batch_size=32, imgsz=640, conf_thres=0.001, iou_thres=0.5, task=test, device=, workers=8, single_cls=False, augment=False, verbose=False, save_txt=False, save_hybrid=False, save_conf=False, save_json=False, project=runs\\val, name=yolo5s_results, exist_ok=False, half=False, dnn=False\n",
      "YOLOv5  2022-8-10 Python-3.9.13 torch-1.13.0 CUDA:0 (NVIDIA GeForce RTX 2080 SUPER, 8192MiB)\n",
      "\n",
      "Fusing layers... \n",
      "YOLOv5s summary: 213 layers, 7034398 parameters, 0 gradients, 15.8 GFLOPs\n",
      "\n",
      "\u001b[34m\u001b[1mtest: \u001b[0mScanning 'D:\\Ammar's\\FYP_DATA\\Yolo Formatted Data (with test)\\labels\\test.cache' images and labels... 1016 found, 0 missing, 0 empty, 0 corrupt: 100%|██████████| 1016/1016 [00:00<?, ?it/s]\n",
      "\u001b[34m\u001b[1mtest: \u001b[0mScanning 'D:\\Ammar's\\FYP_DATA\\Yolo Formatted Data (with test)\\labels\\test.cache' images and labels... 1016 found, 0 missing, 0 empty, 0 corrupt: 100%|██████████| 1016/1016 [00:00<?, ?it/s]\n",
      "\n",
      "               Class     Images     Labels          P          R     mAP@.5 mAP@.5:.95:   0%|          | 0/32 [00:00<?, ?it/s]\n",
      "               Class     Images     Labels          P          R     mAP@.5 mAP@.5:.95:   3%|▎         | 1/32 [00:01<00:52,  1.68s/it]\n",
      "               Class     Images     Labels          P          R     mAP@.5 mAP@.5:.95:   6%|▋         | 2/32 [00:02<00:36,  1.20s/it]\n",
      "               Class     Images     Labels          P          R     mAP@.5 mAP@.5:.95:   9%|▉         | 3/32 [00:03<00:28,  1.01it/s]\n",
      "               Class     Images     Labels          P          R     mAP@.5 mAP@.5:.95:  12%|█▎        | 4/32 [00:03<00:23,  1.20it/s]\n",
      "               Class     Images     Labels          P          R     mAP@.5 mAP@.5:.95:  16%|█▌        | 5/32 [00:04<00:17,  1.51it/s]\n",
      "               Class     Images     Labels          P          R     mAP@.5 mAP@.5:.95:  19%|█▉        | 6/32 [00:04<00:15,  1.66it/s]\n",
      "               Class     Images     Labels          P          R     mAP@.5 mAP@.5:.95:  22%|██▏       | 7/32 [00:05<00:13,  1.88it/s]\n",
      "               Class     Images     Labels          P          R     mAP@.5 mAP@.5:.95:  25%|██▌       | 8/32 [00:05<00:11,  2.06it/s]\n",
      "               Class     Images     Labels          P          R     mAP@.5 mAP@.5:.95:  28%|██▊       | 9/32 [00:05<00:10,  2.29it/s]\n",
      "               Class     Images     Labels          P          R     mAP@.5 mAP@.5:.95:  31%|███▏      | 10/32 [00:06<00:08,  2.47it/s]\n",
      "               Class     Images     Labels          P          R     mAP@.5 mAP@.5:.95:  34%|███▍      | 11/32 [00:06<00:08,  2.58it/s]\n",
      "               Class     Images     Labels          P          R     mAP@.5 mAP@.5:.95:  38%|███▊      | 12/32 [00:06<00:07,  2.68it/s]\n",
      "               Class     Images     Labels          P          R     mAP@.5 mAP@.5:.95:  41%|████      | 13/32 [00:07<00:06,  2.74it/s]\n",
      "               Class     Images     Labels          P          R     mAP@.5 mAP@.5:.95:  44%|████▍     | 14/32 [00:07<00:06,  2.80it/s]\n",
      "               Class     Images     Labels          P          R     mAP@.5 mAP@.5:.95:  47%|████▋     | 15/32 [00:07<00:05,  2.88it/s]\n",
      "               Class     Images     Labels          P          R     mAP@.5 mAP@.5:.95:  50%|█████     | 16/32 [00:08<00:05,  2.95it/s]\n",
      "               Class     Images     Labels          P          R     mAP@.5 mAP@.5:.95:  53%|█████▎    | 17/32 [00:08<00:05,  2.96it/s]\n",
      "               Class     Images     Labels          P          R     mAP@.5 mAP@.5:.95:  56%|█████▋    | 18/32 [00:08<00:04,  3.02it/s]\n",
      "               Class     Images     Labels          P          R     mAP@.5 mAP@.5:.95:  59%|█████▉    | 19/32 [00:09<00:04,  3.06it/s]\n",
      "               Class     Images     Labels          P          R     mAP@.5 mAP@.5:.95:  62%|██████▎   | 20/32 [00:09<00:03,  3.07it/s]\n",
      "               Class     Images     Labels          P          R     mAP@.5 mAP@.5:.95:  66%|██████▌   | 21/32 [00:09<00:03,  3.07it/s]\n",
      "               Class     Images     Labels          P          R     mAP@.5 mAP@.5:.95:  69%|██████▉   | 22/32 [00:10<00:03,  3.09it/s]\n",
      "               Class     Images     Labels          P          R     mAP@.5 mAP@.5:.95:  72%|███████▏  | 23/32 [00:10<00:02,  3.09it/s]\n",
      "               Class     Images     Labels          P          R     mAP@.5 mAP@.5:.95:  75%|███████▌  | 24/32 [00:10<00:02,  3.11it/s]\n",
      "               Class     Images     Labels          P          R     mAP@.5 mAP@.5:.95:  78%|███████▊  | 25/32 [00:11<00:02,  3.16it/s]\n",
      "               Class     Images     Labels          P          R     mAP@.5 mAP@.5:.95:  81%|████████▏ | 26/32 [00:11<00:01,  3.13it/s]\n",
      "               Class     Images     Labels          P          R     mAP@.5 mAP@.5:.95:  84%|████████▍ | 27/32 [00:11<00:01,  3.16it/s]\n",
      "               Class     Images     Labels          P          R     mAP@.5 mAP@.5:.95:  88%|████████▊ | 28/32 [00:12<00:01,  3.17it/s]\n",
      "               Class     Images     Labels          P          R     mAP@.5 mAP@.5:.95:  91%|█████████ | 29/32 [00:12<00:00,  3.17it/s]\n",
      "               Class     Images     Labels          P          R     mAP@.5 mAP@.5:.95:  94%|█████████▍| 30/32 [00:12<00:00,  3.22it/s]\n",
      "               Class     Images     Labels          P          R     mAP@.5 mAP@.5:.95:  97%|█████████▋| 31/32 [00:12<00:00,  3.24it/s]\n",
      "               Class     Images     Labels          P          R     mAP@.5 mAP@.5:.95: 100%|██████████| 32/32 [00:13<00:00,  3.53it/s]\n",
      "               Class     Images     Labels          P          R     mAP@.5 mAP@.5:.95: 100%|██████████| 32/32 [00:13<00:00,  2.43it/s]\n",
      "                 all       1016       2351      0.747      0.655      0.653      0.376\n",
      "         boneanomaly       1016         14      0.699      0.334      0.309      0.171\n",
      "          bonelesion       1016          2      0.713          1      0.995      0.547\n",
      "         foreignbody       1016          1          1          0          0          0\n",
      "            fracture       1016        903      0.887      0.911      0.948      0.558\n",
      "               metal       1016         43      0.829      0.884      0.908      0.617\n",
      "  periostealreaction       1016        163      0.729      0.748       0.75      0.325\n",
      "        pronatorsign       1016         35      0.502        0.8      0.738      0.347\n",
      "          softtissue       1016         20      0.401      0.235      0.246     0.0926\n",
      "                text       1016       1170      0.963      0.978      0.987      0.725\n",
      "Speed: 0.3ms pre-process, 2.4ms inference, 1.7ms NMS per image at shape (32, 3, 640, 640)\n",
      "Results saved to \u001b[1mruns\\val\\yolo5s_results\u001b[0m\n"
     ]
    }
   ],
   "source": [
    "!python val.py --data ../test_path/meta.yaml --weights ./runs/train/yolov5s_results_with_test/weights/best.pt --task test --iou 0.5 --name yolo5s_results "
   ]
  },
  {
   "cell_type": "markdown",
   "metadata": {},
   "source": [
    "YOLOV5X"
   ]
  },
  {
   "cell_type": "code",
   "execution_count": null,
   "metadata": {},
   "outputs": [],
   "source": [
    "!python train.py --img 640 --batch 16 --epochs 100 --data meta.yaml --cfg ./models/yolov5x.yaml --weights '' --name yolov5x_results_with_test  --cache"
   ]
  },
  {
   "cell_type": "code",
   "execution_count": 5,
   "metadata": {},
   "outputs": [
    {
     "name": "stderr",
     "output_type": "stream",
     "text": [
      "\u001b[34m\u001b[1mval: \u001b[0mdata=../test_path/meta.yaml, weights=['./runs/train/yolov5x_results_with_test/weights/best.pt'], batch_size=32, imgsz=640, conf_thres=0.001, iou_thres=0.5, task=test, device=, workers=8, single_cls=False, augment=False, verbose=False, save_txt=False, save_hybrid=False, save_conf=False, save_json=False, project=runs\\val, name=yolo5x_results, exist_ok=False, half=False, dnn=False\n",
      "YOLOv5  2022-8-10 Python-3.9.13 torch-1.13.0 CUDA:0 (NVIDIA GeForce RTX 2080 SUPER, 8192MiB)\n",
      "\n",
      "Fusing layers... \n",
      "YOLOv5x summary: 444 layers, 86227246 parameters, 0 gradients, 203.9 GFLOPs\n",
      "\n",
      "\u001b[34m\u001b[1mtest: \u001b[0mScanning 'D:\\Ammar's\\FYP_DATA\\Yolo Formatted Data (with test)\\labels\\test.cache' images and labels... 1016 found, 0 missing, 0 empty, 0 corrupt: 100%|██████████| 1016/1016 [00:00<?, ?it/s]\n",
      "\u001b[34m\u001b[1mtest: \u001b[0mScanning 'D:\\Ammar's\\FYP_DATA\\Yolo Formatted Data (with test)\\labels\\test.cache' images and labels... 1016 found, 0 missing, 0 empty, 0 corrupt: 100%|██████████| 1016/1016 [00:00<?, ?it/s]\n",
      "\n",
      "               Class     Images     Labels          P          R     mAP@.5 mAP@.5:.95:   0%|          | 0/32 [00:00<?, ?it/s]\n",
      "               Class     Images     Labels          P          R     mAP@.5 mAP@.5:.95:   3%|▎         | 1/32 [00:02<01:12,  2.35s/it]\n",
      "               Class     Images     Labels          P          R     mAP@.5 mAP@.5:.95:   6%|▋         | 2/32 [00:03<00:50,  1.67s/it]\n",
      "               Class     Images     Labels          P          R     mAP@.5 mAP@.5:.95:   9%|▉         | 3/32 [00:04<00:40,  1.41s/it]\n",
      "               Class     Images     Labels          P          R     mAP@.5 mAP@.5:.95:  12%|█▎        | 4/32 [00:05<00:34,  1.22s/it]\n",
      "               Class     Images     Labels          P          R     mAP@.5 mAP@.5:.95:  16%|█▌        | 5/32 [00:06<00:29,  1.09s/it]\n",
      "               Class     Images     Labels          P          R     mAP@.5 mAP@.5:.95:  19%|█▉        | 6/32 [00:07<00:25,  1.00it/s]\n",
      "               Class     Images     Labels          P          R     mAP@.5 mAP@.5:.95:  22%|██▏       | 7/32 [00:08<00:23,  1.07it/s]\n",
      "               Class     Images     Labels          P          R     mAP@.5 mAP@.5:.95:  25%|██▌       | 8/32 [00:08<00:21,  1.13it/s]\n",
      "               Class     Images     Labels          P          R     mAP@.5 mAP@.5:.95:  28%|██▊       | 9/32 [00:09<00:19,  1.17it/s]\n",
      "               Class     Images     Labels          P          R     mAP@.5 mAP@.5:.95:  31%|███▏      | 10/32 [00:10<00:18,  1.20it/s]\n",
      "               Class     Images     Labels          P          R     mAP@.5 mAP@.5:.95:  34%|███▍      | 11/32 [00:11<00:17,  1.22it/s]\n",
      "               Class     Images     Labels          P          R     mAP@.5 mAP@.5:.95:  38%|███▊      | 12/32 [00:11<00:16,  1.24it/s]\n",
      "               Class     Images     Labels          P          R     mAP@.5 mAP@.5:.95:  41%|████      | 13/32 [00:12<00:15,  1.25it/s]\n",
      "               Class     Images     Labels          P          R     mAP@.5 mAP@.5:.95:  44%|████▍     | 14/32 [00:13<00:14,  1.25it/s]\n",
      "               Class     Images     Labels          P          R     mAP@.5 mAP@.5:.95:  47%|████▋     | 15/32 [00:14<00:13,  1.26it/s]\n",
      "               Class     Images     Labels          P          R     mAP@.5 mAP@.5:.95:  50%|█████     | 16/32 [00:15<00:12,  1.30it/s]\n",
      "               Class     Images     Labels          P          R     mAP@.5 mAP@.5:.95:  53%|█████▎    | 17/32 [00:15<00:11,  1.33it/s]\n",
      "               Class     Images     Labels          P          R     mAP@.5 mAP@.5:.95:  56%|█████▋    | 18/32 [00:16<00:10,  1.35it/s]\n",
      "               Class     Images     Labels          P          R     mAP@.5 mAP@.5:.95:  59%|█████▉    | 19/32 [00:17<00:09,  1.37it/s]\n",
      "               Class     Images     Labels          P          R     mAP@.5 mAP@.5:.95:  62%|██████▎   | 20/32 [00:17<00:08,  1.40it/s]\n",
      "               Class     Images     Labels          P          R     mAP@.5 mAP@.5:.95:  66%|██████▌   | 21/32 [00:18<00:07,  1.41it/s]\n",
      "               Class     Images     Labels          P          R     mAP@.5 mAP@.5:.95:  69%|██████▉   | 22/32 [00:19<00:07,  1.43it/s]\n",
      "               Class     Images     Labels          P          R     mAP@.5 mAP@.5:.95:  72%|███████▏  | 23/32 [00:19<00:06,  1.44it/s]\n",
      "               Class     Images     Labels          P          R     mAP@.5 mAP@.5:.95:  75%|███████▌  | 24/32 [00:20<00:05,  1.45it/s]\n",
      "               Class     Images     Labels          P          R     mAP@.5 mAP@.5:.95:  78%|███████▊  | 25/32 [00:21<00:04,  1.44it/s]\n",
      "               Class     Images     Labels          P          R     mAP@.5 mAP@.5:.95:  81%|████████▏ | 26/32 [00:21<00:04,  1.46it/s]\n",
      "               Class     Images     Labels          P          R     mAP@.5 mAP@.5:.95:  84%|████████▍ | 27/32 [00:22<00:03,  1.46it/s]\n",
      "               Class     Images     Labels          P          R     mAP@.5 mAP@.5:.95:  88%|████████▊ | 28/32 [00:23<00:02,  1.47it/s]\n",
      "               Class     Images     Labels          P          R     mAP@.5 mAP@.5:.95:  91%|█████████ | 29/32 [00:23<00:02,  1.48it/s]\n",
      "               Class     Images     Labels          P          R     mAP@.5 mAP@.5:.95:  94%|█████████▍| 30/32 [00:24<00:01,  1.52it/s]\n",
      "               Class     Images     Labels          P          R     mAP@.5 mAP@.5:.95:  97%|█████████▋| 31/32 [00:25<00:00,  1.55it/s]\n",
      "               Class     Images     Labels          P          R     mAP@.5 mAP@.5:.95: 100%|██████████| 32/32 [00:25<00:00,  1.70it/s]\n",
      "               Class     Images     Labels          P          R     mAP@.5 mAP@.5:.95: 100%|██████████| 32/32 [00:25<00:00,  1.25it/s]\n",
      "                 all       1016       2351      0.732      0.636      0.693      0.445\n",
      "         boneanomaly       1016         14      0.508      0.357      0.386      0.132\n",
      "          bonelesion       1016          2      0.779          1      0.995      0.796\n",
      "         foreignbody       1016          1          1          0      0.332      0.265\n",
      "            fracture       1016        903      0.908      0.901      0.948      0.572\n",
      "               metal       1016         43      0.873      0.837      0.923       0.67\n",
      "  periostealreaction       1016        163      0.693      0.712      0.712      0.359\n",
      "        pronatorsign       1016         35      0.567      0.743      0.769      0.402\n",
      "          softtissue       1016         20      0.291        0.2       0.19     0.0746\n",
      "                text       1016       1170      0.972      0.976      0.987      0.734\n",
      "Speed: 0.3ms pre-process, 15.9ms inference, 1.2ms NMS per image at shape (32, 3, 640, 640)\n",
      "Results saved to \u001b[1mruns\\val\\yolo5x_results\u001b[0m\n"
     ]
    }
   ],
   "source": [
    "!python val.py --data ../test_path/meta.yaml --weights ./runs/train/yolov5x_results_with_test/weights/best.pt --task test --iou 0.5 --name yolo5x_results "
   ]
  },
  {
   "cell_type": "markdown",
   "metadata": {},
   "source": [
    "YOLOV5L"
   ]
  },
  {
   "cell_type": "code",
   "execution_count": null,
   "metadata": {},
   "outputs": [],
   "source": [
    "!python train.py --img 640 --batch 16 --epochs 100 --data meta.yaml --cfg ./models/yolov5l.yaml --weights '' --name yolov5l_results_with_test  --cache"
   ]
  },
  {
   "cell_type": "code",
   "execution_count": 4,
   "metadata": {},
   "outputs": [
    {
     "name": "stderr",
     "output_type": "stream",
     "text": [
      "\u001b[34m\u001b[1mval: \u001b[0mdata=../test_path/meta.yaml, weights=['./runs/train/yolov5l_results_with_test/weights/best.pt'], batch_size=32, imgsz=640, conf_thres=0.001, iou_thres=0.5, task=test, device=, workers=8, single_cls=False, augment=False, verbose=False, save_txt=False, save_hybrid=False, save_conf=False, save_json=False, project=runs\\val, name=yolo5l_results, exist_ok=False, half=False, dnn=False\n",
      "YOLOv5  2022-8-10 Python-3.9.13 torch-1.13.0 CUDA:0 (NVIDIA GeForce RTX 2080 SUPER, 8192MiB)\n",
      "\n",
      "Fusing layers... \n",
      "YOLOv5l summary: 367 layers, 46151358 parameters, 0 gradients, 107.8 GFLOPs\n",
      "\n",
      "\u001b[34m\u001b[1mtest: \u001b[0mScanning 'D:\\Ammar's\\FYP_DATA\\Yolo Formatted Data (with test)\\labels\\test.cache' images and labels... 1016 found, 0 missing, 0 empty, 0 corrupt: 100%|██████████| 1016/1016 [00:00<?, ?it/s]\n",
      "\u001b[34m\u001b[1mtest: \u001b[0mScanning 'D:\\Ammar's\\FYP_DATA\\Yolo Formatted Data (with test)\\labels\\test.cache' images and labels... 1016 found, 0 missing, 0 empty, 0 corrupt: 100%|██████████| 1016/1016 [00:00<?, ?it/s]\n",
      "\n",
      "               Class     Images     Labels          P          R     mAP@.5 mAP@.5:.95:   0%|          | 0/32 [00:00<?, ?it/s]\n",
      "               Class     Images     Labels          P          R     mAP@.5 mAP@.5:.95:   3%|▎         | 1/32 [00:02<01:28,  2.85s/it]\n",
      "               Class     Images     Labels          P          R     mAP@.5 mAP@.5:.95:   6%|▋         | 2/32 [00:03<00:51,  1.73s/it]\n",
      "               Class     Images     Labels          P          R     mAP@.5 mAP@.5:.95:   9%|▉         | 3/32 [00:04<00:40,  1.38s/it]\n",
      "               Class     Images     Labels          P          R     mAP@.5 mAP@.5:.95:  12%|█▎        | 4/32 [00:05<00:31,  1.13s/it]\n",
      "               Class     Images     Labels          P          R     mAP@.5 mAP@.5:.95:  16%|█▌        | 5/32 [00:06<00:25,  1.07it/s]\n",
      "               Class     Images     Labels          P          R     mAP@.5 mAP@.5:.95:  19%|█▉        | 6/32 [00:06<00:21,  1.22it/s]\n",
      "               Class     Images     Labels          P          R     mAP@.5 mAP@.5:.95:  22%|██▏       | 7/32 [00:07<00:18,  1.35it/s]\n",
      "               Class     Images     Labels          P          R     mAP@.5 mAP@.5:.95:  25%|██▌       | 8/32 [00:07<00:16,  1.45it/s]\n",
      "               Class     Images     Labels          P          R     mAP@.5 mAP@.5:.95:  28%|██▊       | 9/32 [00:08<00:14,  1.54it/s]\n",
      "               Class     Images     Labels          P          R     mAP@.5 mAP@.5:.95:  31%|███▏      | 10/32 [00:08<00:13,  1.61it/s]\n",
      "               Class     Images     Labels          P          R     mAP@.5 mAP@.5:.95:  34%|███▍      | 11/32 [00:09<00:12,  1.66it/s]\n",
      "               Class     Images     Labels          P          R     mAP@.5 mAP@.5:.95:  38%|███▊      | 12/32 [00:10<00:11,  1.69it/s]\n",
      "               Class     Images     Labels          P          R     mAP@.5 mAP@.5:.95:  41%|████      | 13/32 [00:10<00:11,  1.71it/s]\n",
      "               Class     Images     Labels          P          R     mAP@.5 mAP@.5:.95:  44%|████▍     | 14/32 [00:11<00:10,  1.74it/s]\n",
      "               Class     Images     Labels          P          R     mAP@.5 mAP@.5:.95:  47%|████▋     | 15/32 [00:11<00:09,  1.79it/s]\n",
      "               Class     Images     Labels          P          R     mAP@.5 mAP@.5:.95:  50%|█████     | 16/32 [00:12<00:08,  1.83it/s]\n",
      "               Class     Images     Labels          P          R     mAP@.5 mAP@.5:.95:  53%|█████▎    | 17/32 [00:12<00:08,  1.85it/s]\n",
      "               Class     Images     Labels          P          R     mAP@.5 mAP@.5:.95:  56%|█████▋    | 18/32 [00:13<00:07,  1.89it/s]\n",
      "               Class     Images     Labels          P          R     mAP@.5 mAP@.5:.95:  59%|█████▉    | 19/32 [00:13<00:06,  1.89it/s]\n",
      "               Class     Images     Labels          P          R     mAP@.5 mAP@.5:.95:  62%|██████▎   | 20/32 [00:14<00:06,  1.92it/s]\n",
      "               Class     Images     Labels          P          R     mAP@.5 mAP@.5:.95:  66%|██████▌   | 21/32 [00:14<00:05,  1.94it/s]\n",
      "               Class     Images     Labels          P          R     mAP@.5 mAP@.5:.95:  69%|██████▉   | 22/32 [00:15<00:05,  1.95it/s]\n",
      "               Class     Images     Labels          P          R     mAP@.5 mAP@.5:.95:  72%|███████▏  | 23/32 [00:15<00:04,  1.95it/s]\n",
      "               Class     Images     Labels          P          R     mAP@.5 mAP@.5:.95:  75%|███████▌  | 24/32 [00:16<00:04,  1.96it/s]\n",
      "               Class     Images     Labels          P          R     mAP@.5 mAP@.5:.95:  78%|███████▊  | 25/32 [00:16<00:03,  1.93it/s]\n",
      "               Class     Images     Labels          P          R     mAP@.5 mAP@.5:.95:  81%|████████▏ | 26/32 [00:17<00:03,  1.93it/s]\n",
      "               Class     Images     Labels          P          R     mAP@.5 mAP@.5:.95:  84%|████████▍ | 27/32 [00:17<00:02,  1.93it/s]\n",
      "               Class     Images     Labels          P          R     mAP@.5 mAP@.5:.95:  88%|████████▊ | 28/32 [00:18<00:02,  1.94it/s]\n",
      "               Class     Images     Labels          P          R     mAP@.5 mAP@.5:.95:  91%|█████████ | 29/32 [00:18<00:01,  1.97it/s]\n",
      "               Class     Images     Labels          P          R     mAP@.5 mAP@.5:.95:  94%|█████████▍| 30/32 [00:19<00:00,  2.03it/s]\n",
      "               Class     Images     Labels          P          R     mAP@.5 mAP@.5:.95:  97%|█████████▋| 31/32 [00:19<00:00,  2.08it/s]\n",
      "               Class     Images     Labels          P          R     mAP@.5 mAP@.5:.95: 100%|██████████| 32/32 [00:20<00:00,  2.28it/s]\n",
      "               Class     Images     Labels          P          R     mAP@.5 mAP@.5:.95: 100%|██████████| 32/32 [00:20<00:00,  1.59it/s]\n",
      "                 all       1016       2351      0.759       0.61      0.675      0.428\n",
      "         boneanomaly       1016         14      0.623      0.357      0.343      0.161\n",
      "          bonelesion       1016          2       0.71          1      0.995      0.796\n",
      "         foreignbody       1016          1          1          0      0.249      0.149\n",
      "            fracture       1016        903      0.916      0.898      0.948      0.572\n",
      "               metal       1016         43      0.975      0.837      0.901      0.602\n",
      "  periostealreaction       1016        163      0.768      0.626       0.71      0.352\n",
      "        pronatorsign       1016         35      0.605      0.714      0.748        0.4\n",
      "          softtissue       1016         20      0.257      0.088      0.193     0.0908\n",
      "                text       1016       1170      0.973      0.971      0.987       0.73\n",
      "Speed: 0.2ms pre-process, 8.9ms inference, 1.7ms NMS per image at shape (32, 3, 640, 640)\n",
      "Results saved to \u001b[1mruns\\val\\yolo5l_results\u001b[0m\n"
     ]
    }
   ],
   "source": [
    "!python val.py --data ../test_path/meta.yaml --weights ./runs/train/yolov5l_results_with_test/weights/best.pt --task test --iou 0.5 --name yolo5l_results "
   ]
  },
  {
   "cell_type": "markdown",
   "metadata": {},
   "source": [
    "YOLOV5M"
   ]
  },
  {
   "cell_type": "code",
   "execution_count": null,
   "metadata": {},
   "outputs": [],
   "source": [
    "!python train.py --img 640 --batch 16 --epochs 100 --data meta.yaml --cfg ./models/yolov5m.yaml --weights '' --name yolov5m_results_with_test  --cache"
   ]
  },
  {
   "cell_type": "code",
   "execution_count": 7,
   "metadata": {},
   "outputs": [
    {
     "name": "stderr",
     "output_type": "stream",
     "text": [
      "\u001b[34m\u001b[1mval: \u001b[0mdata=../test_path/meta.yaml, weights=['./runs/train/yolov5m_results_with_test/weights/best.pt'], batch_size=32, imgsz=640, conf_thres=0.001, iou_thres=0.5, task=test, device=, workers=8, single_cls=False, augment=False, verbose=False, save_txt=False, save_hybrid=False, save_conf=False, save_json=False, project=runs\\val, name=yolo5m_results, exist_ok=False, half=False, dnn=False\n",
      "YOLOv5  2022-8-10 Python-3.9.13 torch-1.13.0 CUDA:0 (NVIDIA GeForce RTX 2080 SUPER, 8192MiB)\n",
      "\n",
      "Fusing layers... \n",
      "YOLOv5m summary: 290 layers, 20885262 parameters, 0 gradients, 48.0 GFLOPs\n",
      "\n",
      "\u001b[34m\u001b[1mtest: \u001b[0mScanning 'D:\\Ammar's\\FYP_DATA\\Yolo Formatted Data (with test)\\labels\\test.cache' images and labels... 1016 found, 0 missing, 0 empty, 0 corrupt: 100%|██████████| 1016/1016 [00:00<?, ?it/s]\n",
      "\u001b[34m\u001b[1mtest: \u001b[0mScanning 'D:\\Ammar's\\FYP_DATA\\Yolo Formatted Data (with test)\\labels\\test.cache' images and labels... 1016 found, 0 missing, 0 empty, 0 corrupt: 100%|██████████| 1016/1016 [00:00<?, ?it/s]\n",
      "\n",
      "               Class     Images     Labels          P          R     mAP@.5 mAP@.5:.95:   0%|          | 0/32 [00:00<?, ?it/s]\n",
      "               Class     Images     Labels          P          R     mAP@.5 mAP@.5:.95:   3%|▎         | 1/32 [00:01<00:53,  1.73s/it]\n",
      "               Class     Images     Labels          P          R     mAP@.5 mAP@.5:.95:   6%|▋         | 2/32 [00:02<00:33,  1.13s/it]\n",
      "               Class     Images     Labels          P          R     mAP@.5 mAP@.5:.95:   9%|▉         | 3/32 [00:03<00:27,  1.04it/s]\n",
      "               Class     Images     Labels          P          R     mAP@.5 mAP@.5:.95:  12%|█▎        | 4/32 [00:03<00:22,  1.22it/s]\n",
      "               Class     Images     Labels          P          R     mAP@.5 mAP@.5:.95:  16%|█▌        | 5/32 [00:04<00:18,  1.47it/s]\n",
      "               Class     Images     Labels          P          R     mAP@.5 mAP@.5:.95:  19%|█▉        | 6/32 [00:04<00:15,  1.67it/s]\n",
      "               Class     Images     Labels          P          R     mAP@.5 mAP@.5:.95:  22%|██▏       | 7/32 [00:05<00:13,  1.84it/s]\n",
      "               Class     Images     Labels          P          R     mAP@.5 mAP@.5:.95:  25%|██▌       | 8/32 [00:05<00:12,  1.97it/s]\n",
      "               Class     Images     Labels          P          R     mAP@.5 mAP@.5:.95:  28%|██▊       | 9/32 [00:05<00:10,  2.10it/s]\n",
      "               Class     Images     Labels          P          R     mAP@.5 mAP@.5:.95:  31%|███▏      | 10/32 [00:06<00:10,  2.15it/s]\n",
      "               Class     Images     Labels          P          R     mAP@.5 mAP@.5:.95:  34%|███▍      | 11/32 [00:06<00:09,  2.21it/s]\n",
      "               Class     Images     Labels          P          R     mAP@.5 mAP@.5:.95:  38%|███▊      | 12/32 [00:07<00:08,  2.24it/s]\n",
      "               Class     Images     Labels          P          R     mAP@.5 mAP@.5:.95:  41%|████      | 13/32 [00:07<00:08,  2.28it/s]\n",
      "               Class     Images     Labels          P          R     mAP@.5 mAP@.5:.95:  44%|████▍     | 14/32 [00:08<00:07,  2.33it/s]\n",
      "               Class     Images     Labels          P          R     mAP@.5 mAP@.5:.95:  47%|████▋     | 15/32 [00:08<00:07,  2.39it/s]\n",
      "               Class     Images     Labels          P          R     mAP@.5 mAP@.5:.95:  50%|█████     | 16/32 [00:08<00:06,  2.46it/s]\n",
      "               Class     Images     Labels          P          R     mAP@.5 mAP@.5:.95:  53%|█████▎    | 17/32 [00:09<00:06,  2.47it/s]\n",
      "               Class     Images     Labels          P          R     mAP@.5 mAP@.5:.95:  56%|█████▋    | 18/32 [00:09<00:05,  2.49it/s]\n",
      "               Class     Images     Labels          P          R     mAP@.5 mAP@.5:.95:  59%|█████▉    | 19/32 [00:10<00:05,  2.52it/s]\n",
      "               Class     Images     Labels          P          R     mAP@.5 mAP@.5:.95:  62%|██████▎   | 20/32 [00:10<00:04,  2.54it/s]\n",
      "               Class     Images     Labels          P          R     mAP@.5 mAP@.5:.95:  66%|██████▌   | 21/32 [00:10<00:04,  2.55it/s]\n",
      "               Class     Images     Labels          P          R     mAP@.5 mAP@.5:.95:  69%|██████▉   | 22/32 [00:11<00:03,  2.54it/s]\n",
      "               Class     Images     Labels          P          R     mAP@.5 mAP@.5:.95:  72%|███████▏  | 23/32 [00:11<00:03,  2.57it/s]\n",
      "               Class     Images     Labels          P          R     mAP@.5 mAP@.5:.95:  75%|███████▌  | 24/32 [00:11<00:03,  2.60it/s]\n",
      "               Class     Images     Labels          P          R     mAP@.5 mAP@.5:.95:  78%|███████▊  | 25/32 [00:12<00:02,  2.57it/s]\n",
      "               Class     Images     Labels          P          R     mAP@.5 mAP@.5:.95:  81%|████████▏ | 26/32 [00:12<00:02,  2.58it/s]\n",
      "               Class     Images     Labels          P          R     mAP@.5 mAP@.5:.95:  84%|████████▍ | 27/32 [00:13<00:01,  2.60it/s]\n",
      "               Class     Images     Labels          P          R     mAP@.5 mAP@.5:.95:  88%|████████▊ | 28/32 [00:13<00:01,  2.59it/s]\n",
      "               Class     Images     Labels          P          R     mAP@.5 mAP@.5:.95:  91%|█████████ | 29/32 [00:13<00:01,  2.60it/s]\n",
      "               Class     Images     Labels          P          R     mAP@.5 mAP@.5:.95:  94%|█████████▍| 30/32 [00:14<00:00,  2.65it/s]\n",
      "               Class     Images     Labels          P          R     mAP@.5 mAP@.5:.95:  97%|█████████▋| 31/32 [00:14<00:00,  2.68it/s]\n",
      "               Class     Images     Labels          P          R     mAP@.5 mAP@.5:.95: 100%|██████████| 32/32 [00:14<00:00,  2.90it/s]\n",
      "               Class     Images     Labels          P          R     mAP@.5 mAP@.5:.95: 100%|██████████| 32/32 [00:14<00:00,  2.15it/s]\n",
      "                 all       1016       2351      0.801      0.619      0.688      0.436\n",
      "         boneanomaly       1016         14      0.751      0.357      0.331      0.164\n",
      "          bonelesion       1016          2      0.777          1      0.995      0.746\n",
      "         foreignbody       1016          1          1          0      0.332      0.265\n",
      "            fracture       1016        903      0.913      0.897      0.936      0.564\n",
      "               metal       1016         43      0.981      0.837      0.924       0.63\n",
      "  periostealreaction       1016        163       0.76      0.613      0.692      0.343\n",
      "        pronatorsign       1016         35      0.599      0.686       0.75      0.386\n",
      "          softtissue       1016         20      0.457        0.2      0.246     0.0982\n",
      "                text       1016       1170      0.974      0.977      0.991      0.732\n",
      "Speed: 0.3ms pre-process, 5.1ms inference, 1.5ms NMS per image at shape (32, 3, 640, 640)\n",
      "Results saved to \u001b[1mruns\\val\\yolo5m_results\u001b[0m\n"
     ]
    }
   ],
   "source": [
    "!python val.py --data ../test_path/meta.yaml --weights ./runs/train/yolov5m_results_with_test/weights/best.pt --task test --iou 0.5 --name yolo5m_results "
   ]
  },
  {
   "cell_type": "markdown",
   "metadata": {},
   "source": [
    "YOLOV5N"
   ]
  },
  {
   "cell_type": "code",
   "execution_count": null,
   "metadata": {},
   "outputs": [],
   "source": [
    "!python train.py --img 640 --batch 16 --epochs 100 --data meta.yaml --cfg ./models/yolov5n.yaml --weights '' --name yolov5n_results_with_test  --cache"
   ]
  },
  {
   "cell_type": "code",
   "execution_count": 9,
   "metadata": {},
   "outputs": [
    {
     "name": "stderr",
     "output_type": "stream",
     "text": [
      "\u001b[34m\u001b[1mval: \u001b[0mdata=../test_path/meta.yaml, weights=['./runs/train/yolov5n_results_with_test/weights/best.pt'], batch_size=32, imgsz=640, conf_thres=0.001, iou_thres=0.5, task=test, device=, workers=8, single_cls=False, augment=False, verbose=False, save_txt=False, save_hybrid=False, save_conf=False, save_json=False, project=runs\\val, name=yolo5n_results, exist_ok=False, half=False, dnn=False\n",
      "YOLOv5  2022-8-10 Python-3.9.13 torch-1.13.0 CUDA:0 (NVIDIA GeForce RTX 2080 SUPER, 8192MiB)\n",
      "\n",
      "Fusing layers... \n",
      "YOLOv5n summary: 213 layers, 1771342 parameters, 0 gradients, 4.2 GFLOPs\n",
      "\n",
      "\u001b[34m\u001b[1mtest: \u001b[0mScanning 'D:\\Ammar's\\FYP_DATA\\Yolo Formatted Data (with test)\\labels\\test.cache' images and labels... 1016 found, 0 missing, 0 empty, 0 corrupt: 100%|██████████| 1016/1016 [00:00<?, ?it/s]\n",
      "\u001b[34m\u001b[1mtest: \u001b[0mScanning 'D:\\Ammar's\\FYP_DATA\\Yolo Formatted Data (with test)\\labels\\test.cache' images and labels... 1016 found, 0 missing, 0 empty, 0 corrupt: 100%|██████████| 1016/1016 [00:00<?, ?it/s]\n",
      "\n",
      "               Class     Images     Labels          P          R     mAP@.5 mAP@.5:.95:   0%|          | 0/32 [00:00<?, ?it/s]\n",
      "               Class     Images     Labels          P          R     mAP@.5 mAP@.5:.95:   3%|▎         | 1/32 [00:02<01:17,  2.50s/it]\n",
      "               Class     Images     Labels          P          R     mAP@.5 mAP@.5:.95:   6%|▋         | 2/32 [00:03<00:42,  1.40s/it]\n",
      "               Class     Images     Labels          P          R     mAP@.5 mAP@.5:.95:   9%|▉         | 3/32 [00:03<00:30,  1.07s/it]\n",
      "               Class     Images     Labels          P          R     mAP@.5 mAP@.5:.95:  12%|█▎        | 4/32 [00:04<00:24,  1.15it/s]\n",
      "               Class     Images     Labels          P          R     mAP@.5 mAP@.5:.95:  16%|█▌        | 5/32 [00:04<00:18,  1.50it/s]\n",
      "               Class     Images     Labels          P          R     mAP@.5 mAP@.5:.95:  19%|█▉        | 6/32 [00:04<00:14,  1.83it/s]\n",
      "               Class     Images     Labels          P          R     mAP@.5 mAP@.5:.95:  22%|██▏       | 7/32 [00:05<00:11,  2.13it/s]\n",
      "               Class     Images     Labels          P          R     mAP@.5 mAP@.5:.95:  25%|██▌       | 8/32 [00:05<00:10,  2.37it/s]\n",
      "               Class     Images     Labels          P          R     mAP@.5 mAP@.5:.95:  28%|██▊       | 9/32 [00:05<00:08,  2.58it/s]\n",
      "               Class     Images     Labels          P          R     mAP@.5 mAP@.5:.95:  31%|███▏      | 10/32 [00:06<00:07,  2.77it/s]\n",
      "               Class     Images     Labels          P          R     mAP@.5 mAP@.5:.95:  34%|███▍      | 11/32 [00:06<00:07,  2.86it/s]\n",
      "               Class     Images     Labels          P          R     mAP@.5 mAP@.5:.95:  38%|███▊      | 12/32 [00:06<00:06,  2.93it/s]\n",
      "               Class     Images     Labels          P          R     mAP@.5 mAP@.5:.95:  41%|████      | 13/32 [00:07<00:06,  2.95it/s]\n",
      "               Class     Images     Labels          P          R     mAP@.5 mAP@.5:.95:  44%|████▍     | 14/32 [00:07<00:05,  3.03it/s]\n",
      "               Class     Images     Labels          P          R     mAP@.5 mAP@.5:.95:  47%|████▋     | 15/32 [00:07<00:05,  3.08it/s]\n",
      "               Class     Images     Labels          P          R     mAP@.5 mAP@.5:.95:  50%|█████     | 16/32 [00:08<00:05,  3.13it/s]\n",
      "               Class     Images     Labels          P          R     mAP@.5 mAP@.5:.95:  53%|█████▎    | 17/32 [00:08<00:06,  2.25it/s]\n",
      "               Class     Images     Labels          P          R     mAP@.5 mAP@.5:.95:  56%|█████▋    | 18/32 [00:09<00:05,  2.47it/s]\n",
      "               Class     Images     Labels          P          R     mAP@.5 mAP@.5:.95:  59%|█████▉    | 19/32 [00:09<00:04,  2.65it/s]\n",
      "               Class     Images     Labels          P          R     mAP@.5 mAP@.5:.95:  62%|██████▎   | 20/32 [00:09<00:04,  2.82it/s]\n",
      "               Class     Images     Labels          P          R     mAP@.5 mAP@.5:.95:  66%|██████▌   | 21/32 [00:10<00:05,  2.12it/s]\n",
      "               Class     Images     Labels          P          R     mAP@.5 mAP@.5:.95:  69%|██████▉   | 22/32 [00:10<00:04,  2.37it/s]\n",
      "               Class     Images     Labels          P          R     mAP@.5 mAP@.5:.95:  72%|███████▏  | 23/32 [00:11<00:03,  2.61it/s]\n",
      "               Class     Images     Labels          P          R     mAP@.5 mAP@.5:.95:  75%|███████▌  | 24/32 [00:11<00:02,  2.80it/s]\n",
      "               Class     Images     Labels          P          R     mAP@.5 mAP@.5:.95:  78%|███████▊  | 25/32 [00:12<00:03,  2.08it/s]\n",
      "               Class     Images     Labels          P          R     mAP@.5 mAP@.5:.95:  81%|████████▏ | 26/32 [00:12<00:02,  2.32it/s]\n",
      "               Class     Images     Labels          P          R     mAP@.5 mAP@.5:.95:  84%|████████▍ | 27/32 [00:12<00:01,  2.51it/s]\n",
      "               Class     Images     Labels          P          R     mAP@.5 mAP@.5:.95:  88%|████████▊ | 28/32 [00:13<00:01,  2.67it/s]\n",
      "               Class     Images     Labels          P          R     mAP@.5 mAP@.5:.95:  91%|█████████ | 29/32 [00:13<00:01,  2.16it/s]\n",
      "               Class     Images     Labels          P          R     mAP@.5 mAP@.5:.95:  94%|█████████▍| 30/32 [00:14<00:00,  2.38it/s]\n",
      "               Class     Images     Labels          P          R     mAP@.5 mAP@.5:.95:  97%|█████████▋| 31/32 [00:14<00:00,  2.54it/s]\n",
      "               Class     Images     Labels          P          R     mAP@.5 mAP@.5:.95: 100%|██████████| 32/32 [00:14<00:00,  2.82it/s]\n",
      "               Class     Images     Labels          P          R     mAP@.5 mAP@.5:.95: 100%|██████████| 32/32 [00:14<00:00,  2.17it/s]\n",
      "                 all       1016       2351      0.773      0.518      0.587      0.336\n",
      "         boneanomaly       1016         14      0.763      0.233      0.305      0.153\n",
      "          bonelesion       1016          2          1          0      0.566      0.368\n",
      "         foreignbody       1016          1          1          0          0          0\n",
      "            fracture       1016        903      0.869      0.909      0.944      0.543\n",
      "               metal       1016         43      0.747      0.837      0.875      0.552\n",
      "  periostealreaction       1016        163      0.708      0.626      0.656      0.277\n",
      "        pronatorsign       1016         35      0.508      0.886       0.74      0.329\n",
      "          softtissue       1016         20      0.398        0.2      0.213     0.0926\n",
      "                text       1016       1170      0.962      0.974      0.986      0.714\n",
      "Speed: 0.4ms pre-process, 1.7ms inference, 1.6ms NMS per image at shape (32, 3, 640, 640)\n",
      "Results saved to \u001b[1mruns\\val\\yolo5n_results\u001b[0m\n"
     ]
    }
   ],
   "source": [
    "!python val.py --data ../test_path/meta.yaml --weights ./runs/train/yolov5n_results_with_test/weights/best.pt --task test --iou 0.5 --name yolo5n_results "
   ]
  }
 ],
 "metadata": {
  "accelerator": "GPU",
  "colab": {
   "collapsed_sections": [],
   "name": "WRI_YOLOV5_TR.ipynb",
   "provenance": []
  },
  "gpuClass": "standard",
  "kernelspec": {
   "display_name": "Python 3 (ipykernel)",
   "language": "python",
   "name": "python3"
  },
  "language_info": {
   "codemirror_mode": {
    "name": "ipython",
    "version": 3
   },
   "file_extension": ".py",
   "mimetype": "text/x-python",
   "name": "python",
   "nbconvert_exporter": "python",
   "pygments_lexer": "ipython3",
   "version": "3.10.5"
  },
  "vscode": {
   "interpreter": {
    "hash": "83272796f62e81b00bdf3dd4931e0859c6ce4b0f4439fe48670a93413eeb7f50"
   }
  }
 },
 "nbformat": 4,
 "nbformat_minor": 1
}
